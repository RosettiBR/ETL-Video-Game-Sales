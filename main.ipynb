{
 "cells": [
  {
   "cell_type": "code",
   "execution_count": 7,
   "id": "32004703",
   "metadata": {},
   "outputs": [
    {
     "name": "stdout",
     "output_type": "stream",
     "text": [
      "    Rank                         Name Platform    Year         Genre  \\\n",
      "0      1                   Wii Sports      Wii  2006.0        Sports   \n",
      "1      2            Super Mario Bros.      NES  1985.0      Platform   \n",
      "2      3               Mario Kart Wii      Wii  2008.0        Racing   \n",
      "3      4            Wii Sports Resort      Wii  2009.0        Sports   \n",
      "4      5     Pokemon Red/Pokemon Blue       GB  1996.0  Role-Playing   \n",
      "5      6                       Tetris       GB  1989.0        Puzzle   \n",
      "6      7        New Super Mario Bros.       DS  2006.0      Platform   \n",
      "7      8                     Wii Play      Wii  2006.0          Misc   \n",
      "8      9    New Super Mario Bros. Wii      Wii  2009.0      Platform   \n",
      "9     10                    Duck Hunt      NES  1984.0       Shooter   \n",
      "10    11                   Nintendogs       DS  2005.0    Simulation   \n",
      "11    12                Mario Kart DS       DS  2005.0        Racing   \n",
      "12    13  Pokemon Gold/Pokemon Silver       GB  1999.0  Role-Playing   \n",
      "13    14                      Wii Fit      Wii  2007.0        Sports   \n",
      "14    15                 Wii Fit Plus      Wii  2009.0        Sports   \n",
      "\n",
      "   Publisher  NA_Sales  EU_Sales  JP_Sales  Other_Sales  Global_Sales  \n",
      "0   Nintendo     41.49     29.02      3.77         8.46         82.74  \n",
      "1   Nintendo     29.08      3.58      6.81         0.77         40.24  \n",
      "2   Nintendo     15.85     12.88      3.79         3.31         35.82  \n",
      "3   Nintendo     15.75     11.01      3.28         2.96         33.00  \n",
      "4   Nintendo     11.27      8.89     10.22         1.00         31.37  \n",
      "5   Nintendo     23.20      2.26      4.22         0.58         30.26  \n",
      "6   Nintendo     11.38      9.23      6.50         2.90         30.01  \n",
      "7   Nintendo     14.03      9.20      2.93         2.85         29.02  \n",
      "8   Nintendo     14.59      7.06      4.70         2.26         28.62  \n",
      "9   Nintendo     26.93      0.63      0.28         0.47         28.31  \n",
      "10  Nintendo      9.07     11.00      1.93         2.75         24.76  \n",
      "11  Nintendo      9.81      7.57      4.13         1.92         23.42  \n",
      "12  Nintendo      9.00      6.18      7.20         0.71         23.10  \n",
      "13  Nintendo      8.94      8.03      3.60         2.15         22.72  \n",
      "14  Nintendo      9.09      8.59      2.53         1.79         22.00  \n"
     ]
    }
   ],
   "source": [
    "import pandas as pd\n",
    "\n",
    "df = pd.read_csv('C:/Users/PC/Desktop/Cursos TI/aprendizado banco de dados/Case Video Games Sales/archive/vgsales.csv')\n",
    "\n",
    "print(df.head(15))"
   ]
  },
  {
   "cell_type": "code",
   "execution_count": 18,
   "id": "af483efb",
   "metadata": {},
   "outputs": [
    {
     "name": "stdout",
     "output_type": "stream",
     "text": [
      "<class 'pandas.core.frame.DataFrame'>\n",
      "RangeIndex: 16598 entries, 0 to 16597\n",
      "Data columns (total 11 columns):\n",
      " #   Column        Non-Null Count  Dtype  \n",
      "---  ------        --------------  -----  \n",
      " 0   Rank          16598 non-null  int64  \n",
      " 1   Name          16598 non-null  object \n",
      " 2   Platform      16598 non-null  object \n",
      " 3   Year          16598 non-null  int64  \n",
      " 4   Genre         16598 non-null  object \n",
      " 5   Publisher     16598 non-null  object \n",
      " 6   NA_Sales      16598 non-null  float64\n",
      " 7   EU_Sales      16598 non-null  float64\n",
      " 8   JP_Sales      16598 non-null  float64\n",
      " 9   Other_Sales   16598 non-null  float64\n",
      " 10  Global_Sales  16598 non-null  float64\n",
      "dtypes: float64(5), int64(2), object(4)\n",
      "memory usage: 1.4+ MB\n"
     ]
    }
   ],
   "source": [
    "df.info()\n",
    "\n",
    "#1. verificar os pontos e alfanumericos na coluna Name\n",
    "#2. colocar classe fechada na coluna Genre e Publisher\n",
    "#3. completar os dados faltantes com o valor na coluna Year"
   ]
  },
  {
   "cell_type": "code",
   "execution_count": null,
   "id": "aaf71fbf",
   "metadata": {},
   "outputs": [
    {
     "data": {
      "text/plain": [
       "Rank             0\n",
       "Name             0\n",
       "Platform         0\n",
       "Year             0\n",
       "Genre            0\n",
       "Publisher       58\n",
       "NA_Sales         0\n",
       "EU_Sales         0\n",
       "JP_Sales         0\n",
       "Other_Sales      0\n",
       "Global_Sales     0\n",
       "dtype: int64"
      ]
     },
     "execution_count": 11,
     "metadata": {},
     "output_type": "execute_result"
    }
   ],
   "source": [
    "# Verificando valores duplicados\n",
    "df.duplicated().sum()\n",
    "\n",
    "# Verificando valores nulos\n",
    "df.isnull().sum()"
   ]
  },
  {
   "cell_type": "code",
   "execution_count": null,
   "id": "7e1de13a",
   "metadata": {},
   "outputs": [
    {
     "name": "stdout",
     "output_type": "stream",
     "text": [
      "Linhas com valores nulos:\n",
      "         Rank                                               Name Platform  \\\n",
      "470      471                         wwe Smackdown vs. Raw 2006      PS2   \n",
      "1303    1305                                     Triple Play 99       PS   \n",
      "1662    1664       Shrek / Shrek 2 2-in-1 Gameboy Advance Video      GBA   \n",
      "2222    2224                                 Bentley's Hackpack      GBA   \n",
      "3159    3161  Nicktoons Collection: Game Boy Advance Video V...      GBA   \n",
      "3166    3168  SpongeBob SquarePants: Game Boy Advance Video ...      GBA   \n",
      "3766    3768  SpongeBob SquarePants: Game Boy Advance Video ...      GBA   \n",
      "4145    4147                                 Sonic the Hedgehog      PS3   \n",
      "4526    4528  The Fairly Odd Parents: Game Boy Advance Video...      GBA   \n",
      "4635    4637  The Fairly Odd Parents: Game Boy Advance Video...      GBA   \n",
      "5302    5304      Dragon Ball Z: Budokai Tenkaichi 2 (JP sales)      Wii   \n",
      "5647    5649  Cartoon Network Collection: Game Boy Advance V...      GBA   \n",
      "6272    6274  The Legend of Zelda: The Minish Cap(weekly JP ...      GBA   \n",
      "6437    6439           Sonic X: Game Boy Advance Video Volume 1      GBA   \n",
      "6562    6564  Dora the Explorer: Game Boy Advance Video Volu...      GBA   \n",
      "6648    6650  Cartoon Network Collection: Game Boy Advance V...      GBA   \n",
      "6849    6851     All Grown Up!: Game Boy Advance Video Volume 1      GBA   \n",
      "7208    7210  Nicktoons Collection: Game Boy Advance Video V...      GBA   \n",
      "7351    7353                     Yu Yu Hakusho: Dark Tournament      PS2   \n",
      "7470    7472  SpongeBob SquarePants: Game Boy Advance Video ...      GBA   \n",
      "7953    7955                   Thomas the Tank Engine & Friends      GBA   \n",
      "8330    8332    Dragon Ball GT: Game Boy Advance Video Volume 1      GBA   \n",
      "8341    8343  Codename: Kids Next Door: Game Boy Advance Vid...      GBA   \n",
      "8368    8370  Teenage Mutant Ninja Turtles: Game Boy Advance...      GBA   \n",
      "8503    8505                                       Stronghold 3       PC   \n",
      "8770    8772  Cartoon Network Collection: Game Boy Advance V...      GBA   \n",
      "8848    8850  Pokémon: Johto Photo Finish: Game Boy Advance ...      GBA   \n",
      "8896    8898  Strawberry Shortcake: Game Boy Advance Video V...      GBA   \n",
      "9517    9519                             Farming Simulator 2011       PC   \n",
      "9749    9751  Super Robot Wars OG Saga: Masou Kishin II - Re...      PSP   \n",
      "10382  10384                   Disney Channel Collection Vol. 1      GBA   \n",
      "10494  10496             Atsumare! Power Pro Kun no DS Koushien       DS   \n",
      "11076  11078                       Action Man-Operation Extreme       PS   \n",
      "11526  11528  Cartoon Network Collection: Game Boy Advance V...      GBA   \n",
      "12487  12489                               Chou Soujuu Mecha MG       DS   \n",
      "12517  12519       Prinny: Can I Really Be The Hero? (US sales)      PSP   \n",
      "13278  13280                     Monster Hunter Frontier Online      PS3   \n",
      "13672  13674                          B.L.U.E.: Legend of Water       PS   \n",
      "13962  13964                                     World of Tanks     X360   \n",
      "14087  14089                                       Housekeeping       DS   \n",
      "14296  14299                                Bikkuriman Daijiten       DS   \n",
      "14311  14314                                      Silverlicious       DS   \n",
      "14698  14701                                 UK Truck Simulator       PC   \n",
      "14942  14945  Umineko no Naku Koro ni San: Shinjitsu to Gens...      PS3   \n",
      "15056  15059                                            Xia-Xia       DS   \n",
      "15261  15264                                       Mario Tennis      3DS   \n",
      "15325  15328  Nicktoons Collection: Game Boy Advance Video V...      GBA   \n",
      "15353  15356                   Demolition Company: Gold Edition       PC   \n",
      "15788  15791  Moshi, Kono Sekai ni Kami-sama ga Iru to suru ...      PSV   \n",
      "15915  15918                                       Dream Dancer       DS   \n",
      "16191  16194                    Homeworld Remastered Collection       PC   \n",
      "16198  16201             AKB1/48: Idol to Guam de Koishitara...     X360   \n",
      "16208  16211  Super Robot Monkey Team: Game Boy Advance Vide...      GBA   \n",
      "16229  16232                        Brothers in Arms: Furious 4     X360   \n",
      "16367  16370                                  Dance with Devils      PSV   \n",
      "16494  16497                    Legends of Oz: Dorothy's Return      3DS   \n",
      "16543  16546                             Driving Simulator 2011       PC   \n",
      "16553  16556                                     Bound By Flame     X360   \n",
      "\n",
      "       Year         Genre Publisher  NA_Sales  EU_Sales  JP_Sales  \\\n",
      "470    2007      Fighting       NaN      1.57      1.02      0.00   \n",
      "1303   2007        Sports       NaN      0.81      0.55      0.00   \n",
      "1662   2007          Misc       NaN      0.87      0.32      0.00   \n",
      "2222   2005          Misc       NaN      0.67      0.25      0.00   \n",
      "3159   2004          Misc       NaN      0.46      0.17      0.00   \n",
      "3166   2004          Misc       NaN      0.46      0.17      0.00   \n",
      "3766   2004          Misc       NaN      0.38      0.14      0.00   \n",
      "4145   2007      Platform       NaN      0.00      0.48      0.00   \n",
      "4526   2004          Misc       NaN      0.31      0.11      0.00   \n",
      "4635   2004          Misc       NaN      0.30      0.11      0.00   \n",
      "5302   2007        Action       NaN      0.15      0.05      0.14   \n",
      "5647   2005          Misc       NaN      0.23      0.08      0.00   \n",
      "6272   2007        Action       NaN      0.00      0.00      0.27   \n",
      "6437   2004          Misc       NaN      0.19      0.07      0.00   \n",
      "6562   2004          Misc       NaN      0.18      0.07      0.00   \n",
      "6648   2004          Misc       NaN      0.18      0.07      0.00   \n",
      "6849   2004          Misc       NaN      0.17      0.06      0.00   \n",
      "7208   2004          Misc       NaN      0.16      0.06      0.00   \n",
      "7351   2007      Fighting       NaN      0.10      0.08      0.00   \n",
      "7470   2004          Misc       NaN      0.15      0.05      0.00   \n",
      "7953   2004     Adventure       NaN      0.13      0.05      0.00   \n",
      "8330   2004          Misc       NaN      0.12      0.05      0.00   \n",
      "8341   2004          Misc       NaN      0.12      0.05      0.00   \n",
      "8368   2004          Misc       NaN      0.12      0.04      0.00   \n",
      "8503   2011      Strategy       NaN      0.06      0.10      0.00   \n",
      "8770   2005          Misc       NaN      0.11      0.04      0.00   \n",
      "8848   2004          Misc       NaN      0.11      0.04      0.00   \n",
      "8896   2004          Misc       NaN      0.11      0.04      0.00   \n",
      "9517   2010    Simulation       NaN      0.00      0.13      0.00   \n",
      "9749   2007      Strategy       NaN      0.00      0.00      0.12   \n",
      "10382  2004          Misc       NaN      0.08      0.03      0.00   \n",
      "10494  2007        Sports       NaN      0.00      0.00      0.10   \n",
      "11076  2007        Action       NaN      0.05      0.03      0.00   \n",
      "11526  2004          Misc       NaN      0.06      0.02      0.00   \n",
      "12487  2007    Simulation       NaN      0.00      0.00      0.06   \n",
      "12517  2007        Action       NaN      0.06      0.00      0.00   \n",
      "13278  2007  Role-Playing       NaN      0.00      0.00      0.05   \n",
      "13672  2007     Adventure       NaN      0.00      0.00      0.04   \n",
      "13962  2007       Shooter       NaN      0.00      0.03      0.00   \n",
      "14087  2007        Action       NaN      0.00      0.00      0.04   \n",
      "14296  2007          Misc       NaN      0.00      0.00      0.03   \n",
      "14311  2012        Action       NaN      0.03      0.00      0.00   \n",
      "14698  2010    Simulation       NaN      0.00      0.03      0.00   \n",
      "14942  2007     Adventure       NaN      0.00      0.00      0.02   \n",
      "15056  2012      Platform       NaN      0.00      0.02      0.00   \n",
      "15261  2007        Sports       NaN      0.00      0.00      0.02   \n",
      "15325  2005          Misc       NaN      0.01      0.01      0.00   \n",
      "15353  2011    Simulation       NaN      0.00      0.02      0.00   \n",
      "15788  2016     Adventure       NaN      0.00      0.00      0.02   \n",
      "15915  2007          Misc       NaN      0.01      0.00      0.00   \n",
      "16191  2007      Strategy       NaN      0.00      0.01      0.00   \n",
      "16198  2007          Misc       NaN      0.00      0.00      0.01   \n",
      "16208  2005          Misc       NaN      0.01      0.00      0.00   \n",
      "16229  2007       Shooter       NaN      0.01      0.00      0.00   \n",
      "16367  2016        Action       NaN      0.00      0.00      0.01   \n",
      "16494  2014        Puzzle       NaN      0.00      0.01      0.00   \n",
      "16543  2011        Racing       NaN      0.00      0.01      0.00   \n",
      "16553  2014  Role-Playing       NaN      0.00      0.01      0.00   \n",
      "\n",
      "       Other_Sales  Global_Sales  \n",
      "470           0.41          3.00  \n",
      "1303          0.10          1.46  \n",
      "1662          0.02          1.21  \n",
      "2222          0.02          0.93  \n",
      "3159          0.01          0.64  \n",
      "3166          0.01          0.64  \n",
      "3766          0.01          0.53  \n",
      "4145          0.00          0.48  \n",
      "4526          0.01          0.43  \n",
      "4635          0.01          0.42  \n",
      "5302          0.01          0.35  \n",
      "5647          0.01          0.32  \n",
      "6272          0.01          0.27  \n",
      "6437          0.00          0.27  \n",
      "6562          0.00          0.26  \n",
      "6648          0.00          0.25  \n",
      "6849          0.00          0.24  \n",
      "7208          0.00          0.22  \n",
      "7351          0.03          0.21  \n",
      "7470          0.00          0.21  \n",
      "7953          0.00          0.19  \n",
      "8330          0.00          0.17  \n",
      "8341          0.00          0.17  \n",
      "8368          0.00          0.17  \n",
      "8503          0.00          0.16  \n",
      "8770          0.00          0.15  \n",
      "8848          0.00          0.15  \n",
      "8896          0.00          0.15  \n",
      "9517          0.00          0.13  \n",
      "9749          0.00          0.12  \n",
      "10382         0.00          0.11  \n",
      "10494         0.00          0.10  \n",
      "11076         0.01          0.09  \n",
      "11526         0.00          0.08  \n",
      "12487         0.00          0.06  \n",
      "12517         0.00          0.06  \n",
      "13278         0.00          0.05  \n",
      "13672         0.00          0.04  \n",
      "13962         0.00          0.04  \n",
      "14087         0.00          0.04  \n",
      "14296         0.00          0.03  \n",
      "14311         0.00          0.03  \n",
      "14698         0.00          0.03  \n",
      "14942         0.00          0.02  \n",
      "15056         0.00          0.02  \n",
      "15261         0.00          0.02  \n",
      "15325         0.00          0.02  \n",
      "15353         0.00          0.02  \n",
      "15788         0.00          0.02  \n",
      "15915         0.00          0.02  \n",
      "16191         0.00          0.01  \n",
      "16198         0.00          0.01  \n",
      "16208         0.00          0.01  \n",
      "16229         0.00          0.01  \n",
      "16367         0.00          0.01  \n",
      "16494         0.00          0.01  \n",
      "16543         0.00          0.01  \n",
      "16553         0.00          0.01  \n"
     ]
    }
   ],
   "source": [
    "# Visualizando os dados nulos\n",
    "raw_null = df[df.isnull().any(axis=1)]\n",
    "print(\"Linhas com valores nulos:\\n\", raw_null)"
   ]
  },
  {
   "cell_type": "code",
   "execution_count": null,
   "id": "078c98fa",
   "metadata": {},
   "outputs": [
    {
     "data": {
      "text/plain": [
       "'Electronic Arts'"
      ]
     },
     "execution_count": 13,
     "metadata": {},
     "output_type": "execute_result"
    }
   ],
   "source": [
    "# Visualizando a moda\n",
    "df['Publisher'].mode()[0]"
   ]
  },
  {
   "cell_type": "code",
   "execution_count": null,
   "id": "ef10c3de",
   "metadata": {},
   "outputs": [],
   "source": [
    "# Trocando valores nulos pela moda\n",
    "moda = df['Publisher'].mode()[0]\n",
    "df['Publisher'].fillna(moda, inplace=True)"
   ]
  },
  {
   "cell_type": "code",
   "execution_count": null,
   "id": "bedcaabd",
   "metadata": {},
   "outputs": [
    {
     "name": "stdout",
     "output_type": "stream",
     "text": [
      "<class 'pandas.core.frame.DataFrame'>\n",
      "RangeIndex: 16598 entries, 0 to 16597\n",
      "Data columns (total 11 columns):\n",
      " #   Column        Non-Null Count  Dtype  \n",
      "---  ------        --------------  -----  \n",
      " 0   Rank          16598 non-null  int64  \n",
      " 1   Name          16598 non-null  object \n",
      " 2   Platform      16598 non-null  object \n",
      " 3   Year          16598 non-null  int64  \n",
      " 4   Genre         16598 non-null  object \n",
      " 5   Publisher     16598 non-null  object \n",
      " 6   NA_Sales      16598 non-null  float64\n",
      " 7   EU_Sales      16598 non-null  float64\n",
      " 8   JP_Sales      16598 non-null  float64\n",
      " 9   Other_Sales   16598 non-null  float64\n",
      " 10  Global_Sales  16598 non-null  float64\n",
      "dtypes: float64(5), int64(2), object(4)\n",
      "memory usage: 1.4+ MB\n"
     ]
    }
   ],
   "source": [
    "# Verificando valores faltantes e substituindo pela media\n",
    "df['Year'] = df['Year'].fillna(df['Year'].median())\n",
    "\n",
    "# Convertendo a coluna Year em tipo int\n",
    "df['Year'] = df['Year'].astype(int)\n"
   ]
  },
  {
   "cell_type": "code",
   "execution_count": 37,
   "id": "01350b39",
   "metadata": {},
   "outputs": [
    {
     "data": {
      "image/png": "[encoded data removed]",
      "text/plain": [
       "<Figure size 800x600 with 1 Axes>"
      ]
     },
     "metadata": {},
     "output_type": "display_data"
    }
   ],
   "source": [
    "# Identificando outliers\n",
    "import seaborn as sns\n",
    "import matplotlib.pyplot as plt\n",
    "\n",
    "plt.figure(figsize=(8, 6))\n",
    "sns.boxplot(data=df[['Global_Sales', 'EU_Sales', 'JP_Sales', 'NA_Sales']])\n",
    "plt.title('Boxplot of Sales Data')\n",
    "plt.show()"
   ]
  },
  {
   "cell_type": "code",
   "execution_count": 35,
   "id": "5534eda7",
   "metadata": {},
   "outputs": [
    {
     "data": {
      "text/plain": [
       "<Figure size 1000x700 with 0 Axes>"
      ]
     },
     "metadata": {},
     "output_type": "display_data"
    },
    {
     "data": {
      "image/png": "[encoded data removed]",
      "text/plain": [
       "<Figure size 585.875x500 with 1 Axes>"
      ]
     },
     "metadata": {},
     "output_type": "display_data"
    }
   ],
   "source": [
    "# Identificando outliers\n",
    "import seaborn as sns\n",
    "import matplotlib.pyplot as plt\n",
    "\n",
    "plt.figure(figsize=(10, 7))\n",
    "sns.displot(data=df[['Year']], binwidth=0.5)\n",
    "plt.title('displot Year')\n",
    "plt.show()"
   ]
  },
  {
   "cell_type": "code",
   "execution_count": null,
   "id": "81268597",
   "metadata": {},
   "outputs": [
    {
     "name": "stdout",
     "output_type": "stream",
     "text": [
      "                                            Name  Global_Sales    Year  \\\n",
      "0                                     Wii Sports         82.74  2006.0   \n",
      "1                              Super Mario Bros.         40.24  1985.0   \n",
      "2                                 Mario Kart Wii         35.82  2008.0   \n",
      "3                              Wii Sports Resort         33.00  2009.0   \n",
      "4                       Pokemon Red/Pokemon Blue         31.37  1996.0   \n",
      "5                                         Tetris         30.26  1989.0   \n",
      "6                          New Super Mario Bros.         30.01  2006.0   \n",
      "7                                       Wii Play         29.02  2006.0   \n",
      "8                      New Super Mario Bros. Wii         28.62  2009.0   \n",
      "9                                      Duck Hunt         28.31  1984.0   \n",
      "10                                    Nintendogs         24.76  2005.0   \n",
      "11                                 Mario Kart DS         23.42  2005.0   \n",
      "12                   Pokemon Gold/Pokemon Silver         23.10  1999.0   \n",
      "13                                       Wii Fit         22.72  2007.0   \n",
      "14                                  Wii Fit Plus         22.00  2009.0   \n",
      "15                            Kinect Adventures!         21.82  2010.0   \n",
      "16                            Grand Theft Auto V         21.40  2013.0   \n",
      "17                 Grand Theft Auto: San Andreas         20.81  2004.0   \n",
      "18                             Super Mario World         20.61  1990.0   \n",
      "19  Brain Age: Train Your Brain in Minutes a Day         20.22  2005.0   \n",
      "\n",
      "    JP_Sales  NA_Sales  EU_Sales  \n",
      "0       3.77     41.49     29.02  \n",
      "1       6.81     29.08      3.58  \n",
      "2       3.79     15.85     12.88  \n",
      "3       3.28     15.75     11.01  \n",
      "4      10.22     11.27      8.89  \n",
      "5       4.22     23.20      2.26  \n",
      "6       6.50     11.38      9.23  \n",
      "7       2.93     14.03      9.20  \n",
      "8       4.70     14.59      7.06  \n",
      "9       0.28     26.93      0.63  \n",
      "10      1.93      9.07     11.00  \n",
      "11      4.13      9.81      7.57  \n",
      "12      7.20      9.00      6.18  \n",
      "13      3.60      8.94      8.03  \n",
      "14      2.53      9.09      8.59  \n",
      "15      0.24     14.97      4.94  \n",
      "16      0.97      7.01      9.27  \n",
      "17      0.41      9.43      0.40  \n",
      "18      3.54     12.78      3.75  \n",
      "19      4.16      4.75      9.26  \n"
     ]
    }
   ],
   "source": [
    "# Visualizando outliner na tabela Year\n",
    "top_20 = df[['Name', 'Global_Sales', 'Year', 'JP_Sales', 'NA_Sales', 'EU_Sales']].nlargest(20, 'Global_Sales')\n",
    "print(top_20)\n",
    "\n",
    "# A DISCREPANCIA NÃO É GRANDE, PORÉM O VALOR ESTA CORRETO COM BASE NAS VENDAS POR REGIÃO"
   ]
  }
 ],
 "metadata": {
  "kernelspec": {
   "display_name": "Python 3",
   "language": "python",
   "name": "python3"
  },
  "language_info": {
   "codemirror_mode": {
    "name": "ipython",
    "version": 3
   },
   "file_extension": ".py",
   "mimetype": "text/x-python",
   "name": "python",
   "nbconvert_exporter": "python",
   "pygments_lexer": "ipython3",
   "version": "3.13.2"
  }
 },
 "nbformat": 4,
 "nbformat_minor": 5
}
